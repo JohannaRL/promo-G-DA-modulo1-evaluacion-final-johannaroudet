{
 "cells": [
  {
   "cell_type": "code",
   "execution_count": 1,
   "metadata": {},
   "outputs": [],
   "source": [
    "class TiendaOnline: # contenedores de funciones, donde crearemos objetos/instancias. \n",
    "\n",
    "    def __init__(self,inventario,clientes,ventas_totales):  # método init : constructor recibe los atributos(propiedades)\n",
    "\n",
    "        self.inventario =  [] # Almacenar los productos como un diccionario con las siguientes claves: [{producto:['nombre','precio','cantidad']}].\n",
    "        self.clientes = {}  # Registro de los clientes de la tienda ;'nombre' y 'email'. {cliente:['nombre', 'email']}\n",
    "        self.ventas_totales = 0  # Registro de las ventas totales de la tienda. Inicializalo con valor 0.\n",
    "   \n",
    "    def agregar_producto(self, nombre, precio, cantidad):  # (diccionario de producto inv) Este método agrega un producto al inventario o actualiza su cantidad si ya existe. Debe recibir el nombre, precio y cantidad del producto como parámetros.\n",
    "        \n",
    "        existe = False  # Indicamos que no tenemos nada de momento.\n",
    " \n",
    "        for producto in self.inventario:  # Itera a través del inventario y compara los nombres de los productos con el nombre proporcionado.\n",
    "                \n",
    "                if producto ['nombre'] == nombre:  # Si el producto ya existe, actualiza la cantidad.\n",
    "\n",
    "                    existe = True # Entonces,si existe ,actualiza.\n",
    "\n",
    "                    producto['cantidad'] += cantidad # Actualización.\n",
    "                break\n",
    "            \n",
    "        if not existe: # Si no existe, indicamos para agregar un nuevo producto al inventario.\n",
    "                \n",
    "                nuevo_producto = {'nombre': nombre, 'precio': precio, 'cantidad': cantidad}\n",
    "\n",
    "                self.inventario.append(nuevo_producto)\n",
    "\n",
    "    def ver_inventario(self):\n",
    "\n",
    "        for producto in self.inventario:  # Utiliza un bucle for para recorrer el inventario\n",
    "                    \n",
    "                    print(f\"Nombre: {producto['nombre']}, Precio: ${producto['precio']}, Cantidad: {producto['cantidad']}\") # Imprime los detalles (nombre, precio, cantidad) de cada producto\n",
    "                \n",
    "    def buscar_producto(self, nombre): # Busca un producto en el inventario por nombre y muestra sus detalles si se encuentra. Debe recibir el nombre del producto como parámetro.\n",
    "\n",
    "        for producto in self.inventario:  # Utiliza un bucle for para recorrer el inventario.\n",
    "\n",
    "            if producto [\"nombre\"] == nombre:  # Mientras se encuentre el producto, tenga dispo imprime los detalles.\n",
    "\n",
    "                print(f\"Nombre: {producto['nombre']}, Precio: ${producto['precio']}, Cantidad: {producto['cantidad']}\")\n",
    "                break\n",
    "\n",
    "    def actualizar_stock(self, nombre, cantidad): # Actualiza el stock de un producto en el inventario. Debe recibir el nombre del producto y la cantidad a agregar o quitar como parámetros\n",
    "            \n",
    "            for producto in self.inventario:     # Utiliza un bucle for para recorrer el inventario.\n",
    "\n",
    "                if producto['nombre'] == nombre:    # Busca el producto por nombre.\n",
    "\n",
    "                    cantidad = int(input(f\"Ingrese la cantidad del producto\")) # Actualiza la cantidad según la entrada del usuario\n",
    "\n",
    "                    producto['cantidad'] += cantidad  # Actualización. \n",
    "                    \n",
    "                    print(f\"Se actualiza el stock para el producto {nombre}.\")\n",
    "                    break\n",
    "            \n",
    "          \n",
    "            else : \n",
    "                 print(\"El producto no se encuentra en el inventario.\")\n",
    "\n",
    "    def eliminar_producto(self, nombre):  # Elimina un producto del inventario por nombre. Debe recibir el nombre del producto como parámetro\n",
    "\n",
    "        for producto in self.inventario:  # Utiliza un bucle for para recorrer el inventario.\n",
    "\n",
    "            if producto['nombre'] == nombre:  # Busca el producto por nombre.\n",
    "\n",
    "                self.inventario.remove(producto) # Elimina el producto del inventario si existe. \n",
    "                \n",
    "                print(f\"El producto {nombre} ha sido eliminado del inventario.\")\n",
    "                \n",
    "                return self.inventario\n",
    "        else:\n",
    "            print(\"El producto indicado no se encuentra en el inventario.\")     # Si el producto no esta en el inventario muestra un mensaje indicándolo.\n",
    "\n",
    "    \n",
    "    def calcular_valor_inventario(self):  \n",
    "\n",
    "        valor_total_inventario = 0 #Le damos valor 0 para empezar a iterar y que ejecute el cálculo y se introduzca al final el total. \n",
    "\n",
    "        for producto in self.inventario:  # Utiliza un bucle for para calcular el valor total del inventario. \n",
    "\n",
    "            valor_total_inventario += producto['precio'] * producto['cantidad']   # Itera a través del inventario y suma el valor de cada producto (precio x cantidad\n",
    "\n",
    "        print(valor_total_inventario)\n",
    "\n",
    "\n",
    "    def realizar_compra(self): \n",
    "        \n",
    "        carrito_compra = []  # Creamos una lista vacía para ir registrando los productos seleccionados. \n",
    "        seguir_comprando = True\n",
    "        self.ver_inventario()  # Muestra el inventario para ver que productos tenemos. \n",
    "\n",
    "        while seguir_comprando:   # Utiliza un bucle while para permitir al cliente realizar múltiples compras. Se ejecuta indef. hasta que el cliente indique terminar.\n",
    "\n",
    "            seleccionar_producto = input(\"Introduzca el nombre del producto que quiera comprar o 'terminar' para salir de la compra\") # Solicita al cliente ingresar el nombre del producto que desea comprar.\n",
    "\n",
    "            if seleccionar_producto == 'terminar': # Si indica que quiere terminar, el bucle se para(break).\n",
    "                 \n",
    "                seguir_comprando = False\n",
    "            \n",
    "            else : \n",
    "                cantidad = int(input(\"Indique la cantidad deseada\"))        # Solicita al cliente la cantidad de ese producto que quiere.\n",
    "            \n",
    "                for producto in self.inventario: # recorre el inventario y busca si el producto indicado está en el inventario. \n",
    "                \n",
    "                    if producto['nombre'] == seleccionar_producto: \n",
    "                     \n",
    "                        if cantidad <= producto['cantidad']: # Verificamos si la cantidad ingresada por el cliente es menor o igual a la disponible en el inventario. Si disponemos se ejecuta la sigiuente acción :\n",
    "                          \n",
    "                            carrito_compra.append({'nombre':producto['nombre'],'precio':producto['precio'],'cantidad':producto['cantidad']}) # Añadimos al carrito el producto y cantidad indicados- Diccionario con los detalles del proc\n",
    "\n",
    "                            producto['cantidad'] -= cantidad #lo restamos del inventario\n",
    "                        \n",
    "                        else: \n",
    "                            print(\"Lo sentimos, no disponemos de suficiente stock.\")\n",
    "                        break \n",
    "                else: \n",
    "                     print(\"El producto indicado no se encuentra en nuestro inventario.\")\n",
    "\n",
    "        coste_total = sum(producto['precio'] * producto['cantidad'] for producto in carrito_compra) \n",
    "    \n",
    "        print (f\"El total de la compra es {coste_total}\")\n",
    "\n",
    "\n",
    "    def procesar_pago(self):\n",
    "            try: \n",
    "\n",
    "                cantidad_total = float(input(\"Introduzca la cantidad total\"))\n",
    "\n",
    "                cantidad_pago = float(input(\"Introduzca la cantidad de pago\"))\n",
    "\n",
    "                if cantidad_pago < cantidad_total:\n",
    "\n",
    "                    raise ValueError(\"Saldo insuficiente.\")\n",
    "                \n",
    "                cambio = cantidad_pago - cantidad_total\n",
    "\n",
    "                print(f\"Pago realizado con éxito. Su cambio es de ${cambio: } \")    \n",
    "\n",
    "            except ValueError as e:\n",
    "                \n",
    "                print(f\"Error: {e}\")\n",
    "               \n",
    "    def agregar_cliente(self, nombre, email):\n",
    "        self.clientes[nombre] = email  #clave  nombre del cliente y valor email.\n",
    "        return self.clientes\n",
    "    \n",
    "    def ver_clientes(self):\n",
    "         for nombre, email in self.clientes.items():  # Usamos items para acceder a la clave y valor del dicc. \n",
    "                print(f\"Nombre: {nombre}, email:{email}\")\n",
    "                  "
   ]
  },
  {
   "cell_type": "code",
   "execution_count": 2,
   "metadata": {},
   "outputs": [],
   "source": [
    "# Crear instancias por cada método definido \n",
    "# Llamamos a la clase almacenandola en una variable\n",
    " \n",
    "roundnetshop = TiendaOnline([],{},0)"
   ]
  },
  {
   "cell_type": "code",
   "execution_count": 3,
   "metadata": {},
   "outputs": [],
   "source": [
    "roundnetshop.agregar_producto(\"pelotas\",1 ,150)\n",
    "roundnetshop.agregar_producto(\"red\", 4 ,50)\n",
    "roundnetshop.agregar_producto(\"soporte\", 9 ,50)\n",
    "roundnetshop.agregar_producto(\"inflador\", 2 ,50)"
   ]
  },
  {
   "cell_type": "code",
   "execution_count": 4,
   "metadata": {},
   "outputs": [
    {
     "name": "stdout",
     "output_type": "stream",
     "text": [
      "Nombre: pelotas, Precio: $1, Cantidad: 150\n",
      "Nombre: red, Precio: $4, Cantidad: 50\n",
      "Nombre: soporte, Precio: $9, Cantidad: 50\n",
      "Nombre: inflador, Precio: $2, Cantidad: 50\n"
     ]
    }
   ],
   "source": [
    "roundnetshop.ver_inventario()\n"
   ]
  },
  {
   "cell_type": "code",
   "execution_count": 5,
   "metadata": {},
   "outputs": [
    {
     "name": "stdout",
     "output_type": "stream",
     "text": [
      "Nombre: pelotas, Precio: $1, Cantidad: 150\n"
     ]
    }
   ],
   "source": [
    "roundnetshop.buscar_producto(\"pelotas\")"
   ]
  },
  {
   "cell_type": "code",
   "execution_count": 6,
   "metadata": {},
   "outputs": [
    {
     "name": "stdout",
     "output_type": "stream",
     "text": [
      "Se actualiza el stock para el producto soporte.\n"
     ]
    }
   ],
   "source": [
    "roundnetshop.actualizar_stock(\"soporte\",15) "
   ]
  },
  {
   "cell_type": "code",
   "execution_count": 7,
   "metadata": {},
   "outputs": [
    {
     "name": "stdout",
     "output_type": "stream",
     "text": [
      "El producto red ha sido eliminado del inventario.\n"
     ]
    },
    {
     "data": {
      "text/plain": [
       "[{'nombre': 'pelotas', 'precio': 1, 'cantidad': 150},\n",
       " {'nombre': 'soporte', 'precio': 9, 'cantidad': 65},\n",
       " {'nombre': 'inflador', 'precio': 2, 'cantidad': 50}]"
      ]
     },
     "execution_count": 7,
     "metadata": {},
     "output_type": "execute_result"
    }
   ],
   "source": [
    "roundnetshop.eliminar_producto(\"red\")"
   ]
  },
  {
   "cell_type": "code",
   "execution_count": 8,
   "metadata": {},
   "outputs": [
    {
     "name": "stdout",
     "output_type": "stream",
     "text": [
      "El producto indicado no se encuentra en el inventario.\n"
     ]
    }
   ],
   "source": [
    "roundnetshop.eliminar_producto(\"rodilleras\")"
   ]
  },
  {
   "cell_type": "code",
   "execution_count": 9,
   "metadata": {},
   "outputs": [
    {
     "name": "stdout",
     "output_type": "stream",
     "text": [
      "Nombre: pelotas, Precio: $1, Cantidad: 150\n",
      "Nombre: soporte, Precio: $9, Cantidad: 65\n",
      "Nombre: inflador, Precio: $2, Cantidad: 50\n"
     ]
    }
   ],
   "source": [
    "roundnetshop.ver_inventario()"
   ]
  },
  {
   "cell_type": "code",
   "execution_count": 10,
   "metadata": {},
   "outputs": [
    {
     "name": "stdout",
     "output_type": "stream",
     "text": [
      "835\n"
     ]
    }
   ],
   "source": [
    "roundnetshop.calcular_valor_inventario()"
   ]
  },
  {
   "cell_type": "code",
   "execution_count": 11,
   "metadata": {},
   "outputs": [
    {
     "name": "stdout",
     "output_type": "stream",
     "text": [
      "Nombre: pelotas, Precio: $1, Cantidad: 150\n",
      "Nombre: soporte, Precio: $9, Cantidad: 65\n",
      "Nombre: inflador, Precio: $2, Cantidad: 50\n",
      "El total de la compra es 735\n"
     ]
    }
   ],
   "source": [
    "roundnetshop.realizar_compra()"
   ]
  },
  {
   "cell_type": "code",
   "execution_count": 12,
   "metadata": {},
   "outputs": [
    {
     "name": "stdout",
     "output_type": "stream",
     "text": [
      "Pago realizado con éxito. Su cambio es de $ 0.0 \n"
     ]
    }
   ],
   "source": [
    "roundnetshop.procesar_pago()"
   ]
  },
  {
   "cell_type": "code",
   "execution_count": 13,
   "metadata": {},
   "outputs": [
    {
     "data": {
      "text/plain": [
       "{'Ainhoa': 'condeainhoa@yahoo.es', 'Chloe': 'chlowi.roudet@hotmail.com'}"
      ]
     },
     "execution_count": 13,
     "metadata": {},
     "output_type": "execute_result"
    }
   ],
   "source": [
    "roundnetshop.agregar_cliente(\"Ainhoa\" , \"condeainhoa@yahoo.es\")\n",
    "roundnetshop.agregar_cliente(\"Chloe\" , \"chlowi.roudet@hotmail.com\")"
   ]
  },
  {
   "cell_type": "code",
   "execution_count": 14,
   "metadata": {},
   "outputs": [
    {
     "name": "stdout",
     "output_type": "stream",
     "text": [
      "Nombre: Ainhoa, email:condeainhoa@yahoo.es\n",
      "Nombre: Chloe, email:chlowi.roudet@hotmail.com\n"
     ]
    }
   ],
   "source": [
    "roundnetshop.ver_clientes()"
   ]
  }
 ],
 "metadata": {
  "kernelspec": {
   "display_name": "base",
   "language": "python",
   "name": "python3"
  },
  "language_info": {
   "codemirror_mode": {
    "name": "ipython",
    "version": 3
   },
   "file_extension": ".py",
   "mimetype": "text/x-python",
   "name": "python",
   "nbconvert_exporter": "python",
   "pygments_lexer": "ipython3",
   "version": "3.9.12"
  }
 },
 "nbformat": 4,
 "nbformat_minor": 2
}
